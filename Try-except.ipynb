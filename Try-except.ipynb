{
 "cells": [
  {
   "cell_type": "code",
   "execution_count": 7,
   "id": "33a772b8",
   "metadata": {},
   "outputs": [],
   "source": [
    "#Lesson 6.2.6 Try except when error occurs (extra space between New  YorK)\n",
    "import requests as req\n",
    "from config import weather_api_key"
   ]
  },
  {
   "cell_type": "code",
   "execution_count": 8,
   "id": "d41e083b",
   "metadata": {},
   "outputs": [],
   "source": [
    "url =\"http://api.openweathermap.org/data/2.5/weather?units=Imperial&APPID=\" + weather_api_key"
   ]
  },
  {
   "cell_type": "code",
   "execution_count": 9,
   "id": "ec1a272e",
   "metadata": {},
   "outputs": [],
   "source": [
    "cities = [\"Pittsburg\", \"Austin\", \"New York\", \"Los Angeles\", \"Seattle\"]\n"
   ]
  },
  {
   "cell_type": "code",
   "execution_count": 5,
   "id": "98338e24",
   "metadata": {},
   "outputs": [
    {
     "name": "stdout",
     "output_type": "stream",
     "text": [
      "it is currently65.64 degrees in Pittsburg\n",
      "it is currently90.3 degrees in Austin\n",
      "KeyError received for New  York\n",
      "it is currently68.4 degrees in Los Angeles\n",
      "it is currently57.06 degrees in Seattle\n"
     ]
    }
   ],
   "source": [
    "for city in cities:\n",
    "    try:\n",
    "        city_url =url + \"&q=\" + city\n",
    "        weather = req.get(city_url).json()\n",
    "        temp =weather['main']['temp']\n",
    "    except KeyError:\n",
    "        print ('KeyError received for ' + city)\n",
    "        continue\n",
    "    print(\"it is currently\" + str(temp) + \" degrees in \" + city)"
   ]
  },
  {
   "cell_type": "code",
   "execution_count": null,
   "id": "d3cca8b6",
   "metadata": {},
   "outputs": [],
   "source": []
  }
 ],
 "metadata": {
  "kernelspec": {
   "display_name": "PythonData",
   "language": "python",
   "name": "pythondata"
  },
  "language_info": {
   "codemirror_mode": {
    "name": "ipython",
    "version": 3
   },
   "file_extension": ".py",
   "mimetype": "text/x-python",
   "name": "python",
   "nbconvert_exporter": "python",
   "pygments_lexer": "ipython3",
   "version": "3.7.10"
  }
 },
 "nbformat": 4,
 "nbformat_minor": 5
}
